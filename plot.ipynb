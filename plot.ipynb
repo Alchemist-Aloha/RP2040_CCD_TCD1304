{
 "cells": [
  {
   "cell_type": "code",
   "execution_count": 30,
   "metadata": {},
   "outputs": [],
   "source": [
    "import matplotlib.pyplot as plt\n",
    "import serial  # To read data from serial port\n",
    "import numpy as np\n",
    "\n",
    "\n",
    "\n",
    "# Function to read capture_buf data from the serial port\n",
    "def read_capture_buf():\n",
    "    global capture_buf\n",
    "    capture_buf = []\n",
    "    while True:\n",
    "        line = ser.readline().decode('utf-8').strip()\n",
    "        # print(line)\n",
    "        if line == \"Capture finished\":\n",
    "            print(\"start record\")\n",
    "            break\n",
    "    while True:\n",
    "        line = ser.readline().decode('utf-8').strip()\n",
    "        if line == \"Capture finished\":\n",
    "            print(\"end record\")\n",
    "            break\n",
    "        try:\n",
    "            values = line.split(\",\")  # Splitting values by commas\n",
    "            capture_buf += [int(val) for val in values if val.strip()]\n",
    "        except ValueError:\n",
    "            pass\n",
    "        \n",
    "    \n",
    "\n",
    "# Plotting function\n",
    "def plot_spectrum():\n",
    "    global capture_buf\n",
    "    if not capture_buf:\n",
    "        print(\"No data to plot.\")\n",
    "        return\n",
    "\n",
    "    # Create the x-axis (index) for plotting\n",
    "    x_axis = np.arange(len(capture_buf))\n",
    "    \n",
    "    plt.figure(figsize=(10, 6))\n",
    "    plt.plot(x_axis, capture_buf, label='ADC Values')\n",
    "    plt.xlabel('Sample Number')\n",
    "    plt.ylabel('ADC Value')\n",
    "    plt.title('Captured Spectrum')\n",
    "    plt.grid(True)\n",
    "    plt.legend()\n",
    "    plt.show()\n",
    "\n",
    "# # Main code to read and plot the spectrum\n",
    "# try:\n",
    "#     while True:\n",
    "#         # Reading capture buffer from serial\n",
    "#         print(\"Reading capture buffer data...\")\n",
    "#         read_capture_buf()\n",
    "\n",
    "#         # Plotting the captured buffer\n",
    "#         if capture_buf:\n",
    "#             print(f\"Captured {len(capture_buf)} samples.\")\n",
    "#             plot_spectrum()\n",
    "\n",
    "#         # Wait before the next read (for simulation purposes)\n",
    "#         input(\"Press Enter to capture the next spectrum...\")\n",
    "        \n",
    "# except KeyboardInterrupt:\n",
    "#     print(\"Exiting program...\")\n",
    "# finally:\n",
    "#     ser.close()\n"
   ]
  },
  {
   "cell_type": "code",
   "execution_count": 29,
   "metadata": {},
   "outputs": [],
   "source": [
    "ser.close()"
   ]
  },
  {
   "cell_type": "code",
   "execution_count": 34,
   "metadata": {},
   "outputs": [
    {
     "name": "stdout",
     "output_type": "stream",
     "text": [
      "start record\n",
      "end record\n",
      "3694\n"
     ]
    },
    {
     "data": {
      "text/plain": [
       "[<matplotlib.lines.Line2D at 0x1d7b07675d0>]"
      ]
     },
     "execution_count": 34,
     "metadata": {},
     "output_type": "execute_result"
    },
    {
     "data": {
      "image/png": "[encoded data removed]",
      "text/plain": [
       "<Figure size 640x480 with 1 Axes>"
      ]
     },
     "metadata": {},
     "output_type": "display_data"
    }
   ],
   "source": [
    "# Assuming capture depth is known\n",
    "CAPTURE_DEPTH = 3694  # Or use the value from your C code\n",
    "capture_buf = []\n",
    "\n",
    "# Reading data from serial (replace with your COM port and baudrate)\n",
    "ser = serial.Serial('COM23', 115200, timeout=1)\n",
    "# line = ser.readline().decode('utf-8').strip()\n",
    "read_capture_buf()\n",
    "ser.close()\n",
    "print(len(capture_buf))\n",
    "plt.plot(capture_buf)"
   ]
  }
 ],
 "metadata": {
  "kernelspec": {
   "display_name": "Python 3",
   "language": "python",
   "name": "python3"
  },
  "language_info": {
   "codemirror_mode": {
    "name": "ipython",
    "version": 3
   },
   "file_extension": ".py",
   "mimetype": "text/x-python",
   "name": "python",
   "nbconvert_exporter": "python",
   "pygments_lexer": "ipython3",
   "version": "3.11.9"
  }
 },
 "nbformat": 4,
 "nbformat_minor": 2
}
